{
 "cells": [
  {
   "cell_type": "markdown",
   "metadata": {},
   "source": [
    "# How to Use Feature Extraction Toolbox"
   ]
  },
  {
   "cell_type": "code",
   "execution_count": 1,
   "metadata": {},
   "outputs": [],
   "source": [
    "import pandas as pd\n",
    "\n",
    "from tifex_py.feature_extraction import settings, extraction"
   ]
  },
  {
   "cell_type": "code",
   "execution_count": 2,
   "metadata": {},
   "outputs": [],
   "source": [
    "# Load dataset\n",
    "filename = \"/home/scai9/feature_dataset/USCHAD_data.csv\"\n",
    "dataset = pd.read_csv(filename)\n",
    "\n",
    "# Get subset of dataset to use for testing\n",
    "dataset = dataset.loc[dataset[\"subject\"]==1][0:5000]"
   ]
  },
  {
   "cell_type": "markdown",
   "metadata": {},
   "source": [
    "### Parameter Settings for Feature Extraction\n",
    "\n",
    "There are three categories of features: Statistical, Spectral, and Time Frequency. Each have a class holding parameters required for feature calculation. A given configuration can be saved in either a json or yaml format."
   ]
  },
  {
   "cell_type": "code",
   "execution_count": 3,
   "metadata": {},
   "outputs": [],
   "source": [
    "# Initialization of the feature extraction parameters\n",
    "statistical_params = settings.StatisticalFeatureParams(25)\n",
    "spectral_params = settings.SpectralFeatureParams(25)\n",
    "time_freq_params = settings.TimeFrequencyFeatureParams(25)\n",
    "\n",
    "# Save and load the parameters\n",
    "statistical_params.to_json(\"statistical_params.json\")\n",
    "statistical_params_2 = settings.StatisticalFeatureParams.from_json(\"statistical_params.json\")\n",
    "\n",
    "assert statistical_params.get_settings_as_dict() == statistical_params_2.get_settings_as_dict()"
   ]
  },
  {
   "cell_type": "markdown",
   "metadata": {},
   "source": [
    "### Data Format for Feature Calculators\n",
    "\n",
    "The individual statistial feature calculator functions support univariate series inputs. See example below."
   ]
  },
  {
   "cell_type": "code",
   "execution_count": 4,
   "metadata": {},
   "outputs": [
    {
     "name": "stdout",
     "output_type": "stream",
     "text": [
      "Area Under Squared Curve: 2488.43278078524\n"
     ]
    }
   ],
   "source": [
    "from tifex_py.feature_extraction.statistical_feature_calculators import calculate_area_under_squared_curve\n",
    "\n",
    "area = calculate_area_under_squared_curve(dataset[\"accx\"].values)\n",
    "print(f\"Area Under Squared Curve: {area}\")"
   ]
  },
  {
   "cell_type": "markdown",
   "metadata": {},
   "source": [
    "### Using Feature Extraction Functions\n",
    "\n",
    "In `tifex_py.feature_extraction.extraction` there are functions to extract features from each subcategory: Statistical, Spectral, and Time-Frequency. There is also a function available to extraction features from all three categories.  `njobs` also specifies the number of cores to use. A basic example of each is shown below.\n"
   ]
  },
  {
   "cell_type": "code",
   "execution_count": 5,
   "metadata": {},
   "outputs": [
    {
     "name": "stdout",
     "output_type": "stream",
     "text": [
      "          mean  geometric_mean  harmonic_mean  trimmed_mean_0.1  \\\n",
      "accx -0.704724             NaN            NaN         -0.709874   \n",
      "\n",
      "      trimmed_mean_0.15  trimmed_mean_0.2  trimmed_mean_0.25  \\\n",
      "accx          -0.711949         -0.714596          -0.717405   \n",
      "\n",
      "      trimmed_mean_0.3  mean_of_abs  geometric_mean_of_abs  ...  adf_usedlag  \\\n",
      "accx         -0.719037     0.704724               0.703829  ...         32.0   \n",
      "\n",
      "      has_duplicates  max_has_duplicates  min_has_duplicates  large_std  \\\n",
      "accx            True               False               False      False   \n",
      "\n",
      "      lempel_ziv_complexity     cid_ce  benford_correlation  \\\n",
      "accx                 0.0598  34.857094            -0.313439   \n",
      "\n",
      "      number_cwt_peaks_1  number_cwt_peaks_5  \n",
      "accx                 400                 311  \n",
      "\n",
      "[1 rows x 187 columns]\n"
     ]
    }
   ],
   "source": [
    "# Calculate statistical features\n",
    "features = extraction.calculate_statistical_features(dataset, statistical_params, columns=[\"accx\"], njobs=-1)\n",
    "\n",
    "print(features.head())"
   ]
  },
  {
   "cell_type": "code",
   "execution_count": 6,
   "metadata": {},
   "outputs": [
    {
     "name": "stdout",
     "output_type": "stream",
     "text": [
      "Error calculating feature(s) ['spectral_cumulative_frequency_below_threshold_0.5', 'spectral_cumulative_frequency_below_threshold_0.75']: index -1 is out of bounds for axis 0 with size 0\n",
      "Feature(s) ['spectral_cumulative_frequency_below_threshold_0.5', 'spectral_cumulative_frequency_below_threshold_0.75'] will be set to Nan.\n"
     ]
    },
    {
     "name": "stderr",
     "output_type": "stream",
     "text": [
      "/home/scai9/proj-adl-classification/tifex_py/feature_extraction/spectral_feature_calculators.py:1736: FutureWarning: Unlike other reduction functions (e.g. `skew`, `kurtosis`), the default behavior of `mode` typically preserves the axis it acts along. In SciPy 1.11.0, this behavior will change: the default value of `keepdims` will become False, the `axis` over which the statistic is taken will be eliminated, and the value None will no longer be accepted. Set `keepdims` to True or False to avoid this warning.\n",
      "  valley_width_mode = mode(valley_widths)[0]\n",
      "/home/scai9/proj-adl-classification/tifex_py/feature_extraction/spectral_feature_calculators.py:1739: FutureWarning: Unlike other reduction functions (e.g. `skew`, `kurtosis`), the default behavior of `mode` typically preserves the axis it acts along. In SciPy 1.11.0, this behavior will change: the default value of `keepdims` will become False, the `axis` over which the statistic is taken will be eliminated, and the value None will no longer be accepted. Set `keepdims` to True or False to avoid this warning.\n",
      "  valley_width_mode = mode(valley_widths)[0]\n"
     ]
    },
    {
     "name": "stdout",
     "output_type": "stream",
     "text": [
      "      spectral_centroid_order_1  spectral_centroid_order_2  \\\n",
      "accx                   1.881512                   14.26679   \n",
      "\n",
      "      spectral_centroid_order_3  spectral_centroid_order_4  \\\n",
      "accx                 125.264091                1189.120649   \n",
      "\n",
      "      spectral_centroid_order_5  spectral_variance  spectral_skewness  \\\n",
      "accx               11875.828418          10.726702           1.652527   \n",
      "\n",
      "      spectral_kurtosis  median_frequency  spectral_flatness  ...  \\\n",
      "accx           4.448157          0.585938           0.303453  ...   \n",
      "\n",
      "      spectral_valley_width_std  spectral_subdominant_valley  \\\n",
      "accx                   0.884647                    17.464206   \n",
      "\n",
      "      spectral_valley_count  spectral_peak_broadness  \\\n",
      "accx                    784                 3.185422   \n",
      "\n",
      "      spectral_valley_broadness  spectral_range  spectral_trimmed_mean  \\\n",
      "accx                   3.186462            12.5               6.519935   \n",
      "\n",
      "      harmonic_product_spectrum    smoothness    roughness  \n",
      "accx               1.541544e+14  1.194461e+07  4803.530231  \n",
      "\n",
      "[1 rows x 96 columns]\n"
     ]
    }
   ],
   "source": [
    "# Calculate spectral features\n",
    "features = extraction.calculate_spectral_features(dataset, spectral_params, columns=[\"accx\"], njobs=-1)\n",
    "\n",
    "print(features.head())"
   ]
  },
  {
   "cell_type": "code",
   "execution_count": 7,
   "metadata": {},
   "outputs": [
    {
     "name": "stdout",
     "output_type": "stream",
     "text": [
      "      tkeo_mean  tkeo_geometric_mean  tkeo_harmonic_mean  \\\n",
      "accx  -0.000237             0.001189        1.536900e-14   \n",
      "accy  -0.000109             0.000479        7.894626e-15   \n",
      "accz  -0.000313             0.000374        6.615248e-15   \n",
      "\n",
      "      tkeo_trimmed_mean_0.1  tkeo_trimmed_mean_0.15  tkeo_trimmed_mean_0.2  \\\n",
      "accx              -0.000003                0.000027               0.000038   \n",
      "accy              -0.000037               -0.000036              -0.000035   \n",
      "accz              -0.000003                0.000010               0.000016   \n",
      "\n",
      "      tkeo_trimmed_mean_0.25  tkeo_trimmed_mean_0.3  tkeo_mean_of_abs  \\\n",
      "accx                0.000048               0.000051          0.008779   \n",
      "accy               -0.000040              -0.000048          0.003708   \n",
      "accz                0.000014               0.000012          0.005751   \n",
      "\n",
      "      tkeo_geometric_mean_of_abs  ...  stft_adf_usedlag  stft_has_duplicates  \\\n",
      "accx                         0.0  ...               8.0                 True   \n",
      "accy                         0.0  ...              28.0                 True   \n",
      "accz                         0.0  ...              31.0                 True   \n",
      "\n",
      "      stft_max_has_duplicates  stft_min_has_duplicates  stft_large_std  \\\n",
      "accx                    False                    False           False   \n",
      "accy                    False                     True           False   \n",
      "accz                    False                     True           False   \n",
      "\n",
      "      stft_lempel_ziv_complexity  stft_cid_ce  stft_benford_correlation  \\\n",
      "accx                    0.050450     2.706850                  0.370164   \n",
      "accy                    0.069680     3.176478                  0.615143   \n",
      "accz                    0.061189     3.489573                  0.650534   \n",
      "\n",
      "      stft_number_cwt_peaks_1  stft_number_cwt_peaks_5  \n",
      "accx                      285                      280  \n",
      "accy                      278                      265  \n",
      "accz                      253                      270  \n",
      "\n",
      "[3 rows x 748 columns]\n"
     ]
    }
   ],
   "source": [
    "# Calculate time frequency features\n",
    "features = extraction.calculate_time_frequency_features(dataset[0:3000], time_freq_params, columns=[\"accx\", \"accy\", \"accz\"], njobs=1)\n",
    "\n",
    "print(features.head())"
   ]
  },
  {
   "cell_type": "code",
   "execution_count": 8,
   "metadata": {},
   "outputs": [
    {
     "name": "stderr",
     "output_type": "stream",
     "text": [
      "/home/scai9/proj-adl-classification/tifex_py/feature_extraction/spectral_feature_calculators.py:1736: FutureWarning: Unlike other reduction functions (e.g. `skew`, `kurtosis`), the default behavior of `mode` typically preserves the axis it acts along. In SciPy 1.11.0, this behavior will change: the default value of `keepdims` will become False, the `axis` over which the statistic is taken will be eliminated, and the value None will no longer be accepted. Set `keepdims` to True or False to avoid this warning.\n",
      "  valley_width_mode = mode(valley_widths)[0]\n",
      "/home/scai9/proj-adl-classification/tifex_py/feature_extraction/spectral_feature_calculators.py:1739: FutureWarning: Unlike other reduction functions (e.g. `skew`, `kurtosis`), the default behavior of `mode` typically preserves the axis it acts along. In SciPy 1.11.0, this behavior will change: the default value of `keepdims` will become False, the `axis` over which the statistic is taken will be eliminated, and the value None will no longer be accepted. Set `keepdims` to True or False to avoid this warning.\n",
      "  valley_width_mode = mode(valley_widths)[0]\n"
     ]
    },
    {
     "name": "stdout",
     "output_type": "stream",
     "text": [
      "Error calculating feature(s) ['spectral_cumulative_frequency_below_threshold_0.5', 'spectral_cumulative_frequency_below_threshold_0.75']: index -1 is out of bounds for axis 0 with size 0\n",
      "Feature(s) ['spectral_cumulative_frequency_below_threshold_0.5', 'spectral_cumulative_frequency_below_threshold_0.75'] will be set to Nan.\n"
     ]
    },
    {
     "name": "stderr",
     "output_type": "stream",
     "text": [
      "/home/scai9/proj-adl-classification/tifex_py/feature_extraction/spectral_feature_calculators.py:1736: FutureWarning: Unlike other reduction functions (e.g. `skew`, `kurtosis`), the default behavior of `mode` typically preserves the axis it acts along. In SciPy 1.11.0, this behavior will change: the default value of `keepdims` will become False, the `axis` over which the statistic is taken will be eliminated, and the value None will no longer be accepted. Set `keepdims` to True or False to avoid this warning.\n",
      "  valley_width_mode = mode(valley_widths)[0]\n",
      "/home/scai9/proj-adl-classification/tifex_py/feature_extraction/spectral_feature_calculators.py:1739: FutureWarning: Unlike other reduction functions (e.g. `skew`, `kurtosis`), the default behavior of `mode` typically preserves the axis it acts along. In SciPy 1.11.0, this behavior will change: the default value of `keepdims` will become False, the `axis` over which the statistic is taken will be eliminated, and the value None will no longer be accepted. Set `keepdims` to True or False to avoid this warning.\n",
      "  valley_width_mode = mode(valley_widths)[0]\n",
      "/home/scai9/proj-adl-classification/tifex_py/feature_extraction/spectral_feature_calculators.py:1736: FutureWarning: Unlike other reduction functions (e.g. `skew`, `kurtosis`), the default behavior of `mode` typically preserves the axis it acts along. In SciPy 1.11.0, this behavior will change: the default value of `keepdims` will become False, the `axis` over which the statistic is taken will be eliminated, and the value None will no longer be accepted. Set `keepdims` to True or False to avoid this warning.\n",
      "  valley_width_mode = mode(valley_widths)[0]\n",
      "/home/scai9/proj-adl-classification/tifex_py/feature_extraction/spectral_feature_calculators.py:1739: FutureWarning: Unlike other reduction functions (e.g. `skew`, `kurtosis`), the default behavior of `mode` typically preserves the axis it acts along. In SciPy 1.11.0, this behavior will change: the default value of `keepdims` will become False, the `axis` over which the statistic is taken will be eliminated, and the value None will no longer be accepted. Set `keepdims` to True or False to avoid this warning.\n",
      "  valley_width_mode = mode(valley_widths)[0]\n"
     ]
    },
    {
     "name": "stdout",
     "output_type": "stream",
     "text": [
      "          mean  geometric_mean  harmonic_mean  trimmed_mean_0.1  \\\n",
      "accx -0.704724             NaN            NaN         -0.709874   \n",
      "accy  0.583404        0.577975       0.572182          0.587889   \n",
      "accz -0.506294             NaN            NaN         -0.499774   \n",
      "\n",
      "      trimmed_mean_0.15  trimmed_mean_0.2  trimmed_mean_0.25  \\\n",
      "accx          -0.711949         -0.714596          -0.717405   \n",
      "accy           0.586373          0.581839           0.581099   \n",
      "accz          -0.496107         -0.495148          -0.494809   \n",
      "\n",
      "      trimmed_mean_0.3  mean_of_abs  geometric_mean_of_abs  ...  \\\n",
      "accx         -0.719037     0.704724               0.703829  ...   \n",
      "accy          0.581090     0.583404               0.577975  ...   \n",
      "accz         -0.494613     0.506294               0.502510  ...   \n",
      "\n",
      "      stft_adf_usedlag  stft_has_duplicates  stft_max_has_duplicates  \\\n",
      "accx              16.0                 True                    False   \n",
      "accy              14.0                 True                    False   \n",
      "accz              31.0                 True                    False   \n",
      "\n",
      "      stft_min_has_duplicates  stft_large_std  stft_lempel_ziv_complexity  \\\n",
      "accx                    False           False                    0.039568   \n",
      "accy                     True           False                    0.050510   \n",
      "accz                     True           False                    0.047062   \n",
      "\n",
      "      stft_cid_ce  stft_benford_correlation  stft_number_cwt_peaks_1  \\\n",
      "accx     3.239265                  0.423175                      466   \n",
      "accy     3.979873                  0.620812                      448   \n",
      "accz     4.169195                  0.672190                      449   \n",
      "\n",
      "      stft_number_cwt_peaks_5  \n",
      "accx                      467  \n",
      "accy                      451  \n",
      "accz                      470  \n",
      "\n",
      "[3 rows x 1031 columns]\n"
     ]
    }
   ],
   "source": [
    "# Calculate all features\n",
    "features = extraction.calculate_all_features(dataset, statistical_params, spectral_params, time_freq_params, columns=[\"accx\", \"accy\", \"accz\"], njobs=6)\n",
    "\n",
    "print(features.head())"
   ]
  },
  {
   "cell_type": "markdown",
   "metadata": {},
   "source": [
    "Arrays, DataFrames and Series are all acceptable input data formats. If the input is a DataFrame, the columns parameters specifies the columns to analyze (as seen in the previous examples). If not, they are the ordered names of the components of signal. "
   ]
  },
  {
   "cell_type": "code",
   "execution_count": 9,
   "metadata": {},
   "outputs": [
    {
     "name": "stdout",
     "output_type": "stream",
     "text": [
      "(5000, 3)\n",
      "          mean  geometric_mean  harmonic_mean  trimmed_mean_0.1  \\\n",
      "accx -0.704724             NaN            NaN         -0.709874   \n",
      "accy  0.583404        0.577975       0.572182          0.587889   \n",
      "accz -0.506294             NaN            NaN         -0.499774   \n",
      "\n",
      "      trimmed_mean_0.15  trimmed_mean_0.2  trimmed_mean_0.25  \\\n",
      "accx          -0.711949         -0.714596          -0.717405   \n",
      "accy           0.586373          0.581839           0.581099   \n",
      "accz          -0.496107         -0.495148          -0.494809   \n",
      "\n",
      "      trimmed_mean_0.3  mean_of_abs  geometric_mean_of_abs  ...  adf_usedlag  \\\n",
      "accx         -0.719037     0.704724               0.703829  ...         32.0   \n",
      "accy          0.581090     0.583404               0.577975  ...         31.0   \n",
      "accz         -0.494613     0.506294               0.502510  ...         32.0   \n",
      "\n",
      "      has_duplicates  max_has_duplicates  min_has_duplicates  large_std  \\\n",
      "accx            True               False               False      False   \n",
      "accy            True               False                True      False   \n",
      "accz            True               False               False      False   \n",
      "\n",
      "      lempel_ziv_complexity     cid_ce  benford_correlation  \\\n",
      "accx                 0.0598  34.857094            -0.313439   \n",
      "accy                 0.0912   8.004957            -0.246777   \n",
      "accz                 0.0756  18.140477            -0.177786   \n",
      "\n",
      "      number_cwt_peaks_1  number_cwt_peaks_5  \n",
      "accx                 400                 311  \n",
      "accy                 393                 365  \n",
      "accz                 361                 333  \n",
      "\n",
      "[3 rows x 187 columns]\n",
      "          mean  geometric_mean  harmonic_mean  trimmed_mean_0.1  \\\n",
      "accx -0.704724             NaN            NaN         -0.709874   \n",
      "\n",
      "      trimmed_mean_0.15  trimmed_mean_0.2  trimmed_mean_0.25  \\\n",
      "accx          -0.711949         -0.714596          -0.717405   \n",
      "\n",
      "      trimmed_mean_0.3  mean_of_abs  geometric_mean_of_abs  ...  adf_usedlag  \\\n",
      "accx         -0.719037     0.704724               0.703829  ...         32.0   \n",
      "\n",
      "      has_duplicates  max_has_duplicates  min_has_duplicates  large_std  \\\n",
      "accx            True               False               False      False   \n",
      "\n",
      "      lempel_ziv_complexity     cid_ce  benford_correlation  \\\n",
      "accx                 0.0598  34.857094            -0.313439   \n",
      "\n",
      "      number_cwt_peaks_1  number_cwt_peaks_5  \n",
      "accx                 400                 311  \n",
      "\n",
      "[1 rows x 187 columns]\n"
     ]
    }
   ],
   "source": [
    "# 2D array input\n",
    "print(dataset[[\"accx\", \"accy\", \"accz\"]].values.shape)\n",
    "features = extraction.calculate_statistical_features(dataset[[\"accx\", \"accy\", \"accz\"]].values, statistical_params, columns=[\"accx\", \"accy\", \"accz\"], njobs=1)\n",
    "\n",
    "print(features.head())\n",
    "\n",
    "# Series input\n",
    "features = extraction.calculate_statistical_features(dataset[\"accx\"].values, statistical_params, columns=[\"accx\"], njobs=1)\n",
    "\n",
    "print(features.head())"
   ]
  },
  {
   "cell_type": "markdown",
   "metadata": {},
   "source": [
    "### Extracting a Subset of Features\n",
    "\n",
    "Optionally, a subset of the available features can be selected for extraction through a list of feature names in the parameter classes."
   ]
  },
  {
   "cell_type": "code",
   "execution_count": 10,
   "metadata": {},
   "outputs": [
    {
     "name": "stdout",
     "output_type": "stream",
     "text": [
      "           std      mode            detrended_fluctuation_analysis_segments  \\\n",
      "accx  0.033738 -0.725808  [22, 25, 30, 33, 45, 50, 55, 66, 75, 90, 99, 1...   \n",
      "accy  0.077468  0.577970  [22, 25, 30, 33, 45, 50, 55, 66, 75, 90, 99, 1...   \n",
      "accz  0.062115 -0.486109  [22, 25, 30, 33, 45, 50, 55, 66, 75, 90, 99, 1...   \n",
      "\n",
      "                  detrended_fluctuation_analysis_values  spectral_variance  \\\n",
      "accx  [0.030752754807630688, 0.03365113703450742, 0....          10.726702   \n",
      "accy  [0.04164051951457158, 0.047843961327387836, 0....           5.883212   \n",
      "accz  [0.03748312789928865, 0.0479917901052525, 0.04...           9.877341   \n",
      "\n",
      "      tkeo_std  tkeo_mode       tkeo_detrended_fluctuation_analysis_segments  \\\n",
      "accx  0.016841        0.0  [22, 25, 30, 33, 45, 50, 55, 66, 75, 90, 99, 1...   \n",
      "accy  0.007834        0.0  [22, 25, 30, 33, 45, 50, 55, 66, 75, 90, 99, 1...   \n",
      "accz  0.012551        0.0  [22, 25, 30, 33, 45, 50, 55, 66, 75, 90, 99, 1...   \n",
      "\n",
      "             tkeo_detrended_fluctuation_analysis_values  \n",
      "accx  [0.01088926302114715, 0.010989360269545917, 0....  \n",
      "accy  [0.005708426225498532, 0.005797540225637423, 0...  \n",
      "accz  [0.009834837016562247, 0.0101957376722178, 0.0...  \n"
     ]
    }
   ],
   "source": [
    "statistical_params = settings.StatisticalFeatureParams(25, calculators=[\"detrended_fluctuation_analysis\", \"mode\", \"std\"])\n",
    "spectral_params = settings.SpectralFeatureParams(25, calculators=[\"spectral_variance\"])\n",
    "time_freq_params = settings.TimeFrequencyFeatureParams(25, calculators=[\"tkeo_features\"],tkeo_sf_params=statistical_params)\n",
    "\n",
    "features = extraction.calculate_all_features(dataset, statistical_params, spectral_params, time_freq_params, columns=[\"accx\", \"accy\", \"accz\"], njobs=1)\n",
    "print(features.head())"
   ]
  }
 ],
 "metadata": {
  "kernelspec": {
   "display_name": "Python 3",
   "language": "python",
   "name": "python3"
  },
  "language_info": {
   "codemirror_mode": {
    "name": "ipython",
    "version": 3
   },
   "file_extension": ".py",
   "mimetype": "text/x-python",
   "name": "python",
   "nbconvert_exporter": "python",
   "pygments_lexer": "ipython3",
   "version": "3.8.10"
  }
 },
 "nbformat": 4,
 "nbformat_minor": 2
}
